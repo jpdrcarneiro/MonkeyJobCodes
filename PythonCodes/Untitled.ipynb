{
 "cells": [
  {
   "cell_type": "code",
   "execution_count": 2,
   "metadata": {},
   "outputs": [
    {
     "name": "stdout",
     "output_type": "stream",
     "text": [
      "dependencies load complete ! time: 0.5793789307276408\n"
     ]
    }
   ],
   "source": [
    "import time\n",
    "t0 = time.time()\n",
    "\n",
    "import sys,os\n",
    "import pandas as pd\n",
    "import numpy as np\n",
    "from nltk import *\n",
    "from nltk.corpus import stopwords\n",
    "import matplotlib.pyplot as plt\n",
    "import string\n",
    "\n",
    "import spacy\n",
    "#Loading laguage model \n",
    "nlp =  spacy.load('en_core_web_lg')\n",
    "\n",
    "from spacy.matcher import PhraseMatcher\n",
    "phrase_matcher = PhraseMatcher(nlp.vocab)\n",
    "\n",
    "from FunctionsNLTK import *\n",
    "print(\"dependencies load complete !\", ComputeRunTime(t0))\n"
   ]
  },
  {
   "cell_type": "code",
   "execution_count": null,
   "metadata": {},
   "outputs": [],
   "source": [
    "data = pd.read_csv(\"D:\\\\Schedule\\\\20190913.csv\", sep=\",\", skiprows=0, header=[1], encoding=\"utf-8\")\n",
    "\n",
    "data = pd.DataFrame(data)#.drop([])\n",
    "\n",
    "del data['Delete This Row']\n",
    "del data['Unnamed: 8']\n",
    "del data['Unnamed: 9']\n",
    "      \n",
    "#Create tags and values for the schedule data\n",
    "data['ActivityPattern'] = np.vectorize(CreateActivityPatterns)(data['Activity Name'])\n",
    "data['boolValue'] = np.where(data['BIM 4D Code'].notnull() & data['BIM 4D Code'].str.len() >= 3, True, False)\n",
    "#preparing data for classifier\n",
    "\n",
    "print(\"Train data load, clean and organize complete!\", ComputeRunTime(t0))"
   ]
  },
  {
   "cell_type": "code",
   "execution_count": null,
   "metadata": {},
   "outputs": [],
   "source": [
    "training= data[['ActivityPattern', 'boolValue']] #OrganizeDict(data, 'ActivityPattern', 'boolValue')\n",
    "training = training.set_index('ActivityPattern')['boolValue'].to_dict()\n",
    "#training_set = dict(zip(training.ActivityPattern, training_set.boolValue))\n",
    "\n",
    "print (training)\n",
    "\n"
   ]
  }
 ],
 "metadata": {
  "kernelspec": {
   "display_name": "Python 3",
   "language": "python",
   "name": "python3"
  },
  "language_info": {
   "codemirror_mode": {
    "name": "ipython",
    "version": 3
   },
   "file_extension": ".py",
   "mimetype": "text/x-python",
   "name": "python",
   "nbconvert_exporter": "python",
   "pygments_lexer": "ipython3",
   "version": "3.8.1"
  }
 },
 "nbformat": 4,
 "nbformat_minor": 4
}
